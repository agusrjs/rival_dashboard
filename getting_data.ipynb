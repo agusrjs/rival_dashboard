{
 "cells": [
  {
   "cell_type": "markdown",
   "metadata": {},
   "source": [
    "# Obtención de datos\n",
    "\n",
    "Se utilizan datos provistos por Sofascore. Para obtenerlos se hace uso de este script [script](https://github.com/agusrjs/scraping-data-providers/blob/main/pvd_Sofascore.py). En este [repositorio](https://github.com/agusrjs/scraping-data-providers) también se trabaja con datos de otros proveedores.\n"
   ]
  },
  {
   "cell_type": "code",
   "execution_count": null,
   "metadata": {},
   "outputs": [],
   "source": [
    "import pvd_Sofascore as sofascore\n",
    "import pandas as pd\n",
    "import re\n",
    "import requests\n",
    "import http.client\n",
    "import json\n",
    "import time\n",
    "import os\n",
    "from bs4 import BeautifulSoup\n",
    "from datetime import datetime\n",
    "from selenium import webdriver\n",
    "from selenium.webdriver.common.by import By\n",
    "from selenium.webdriver.support.ui import WebDriverWait\n",
    "from selenium.webdriver.support import expected_conditions as EC"
   ]
  },
  {
   "cell_type": "markdown",
   "metadata": {},
   "source": [
    "## Liga"
   ]
  },
  {
   "cell_type": "markdown",
   "metadata": {},
   "source": [
    "Se definen las variables correspondientes a la liga y la temporada. Luegos se extraen los equipos que la conforman."
   ]
  },
  {
   "cell_type": "code",
   "execution_count": 166,
   "metadata": {},
   "outputs": [],
   "source": [
    "# Ids\n",
    "league_id = '703'\n",
    "tournament_id = '5071'\n",
    "season_id = '57782'"
   ]
  },
  {
   "cell_type": "code",
   "execution_count": null,
   "metadata": {},
   "outputs": [],
   "source": [
    "# Posiciones\n",
    "groups = sofascore.get_groups_from_league(league_id, season_id)\n",
    "teams_in_groups = [groups[i]['team_id'] for i in range(len(groups))]\n",
    "team_ids = pd.concat(teams_in_groups, ignore_index=True)"
   ]
  },
  {
   "cell_type": "markdown",
   "metadata": {},
   "source": [
    "## Equipos\n",
    "Se obtienen las estadísticas acumuladas de cada equipo en la temporada."
   ]
  },
  {
   "cell_type": "code",
   "execution_count": null,
   "metadata": {},
   "outputs": [],
   "source": [
    "# Estadísticas\n",
    "sofascore.get_statistics_from_team_ids(team_ids, league_id, season_id, delay=5)"
   ]
  },
  {
   "cell_type": "markdown",
   "metadata": {},
   "source": [
    "## Jugadores\n",
    "Se extraen los jugadores de todos los equipos obtenidos de la Liga. A partir de esto se obtiene su perfil, mapa de calor, atributos y estadísticas."
   ]
  },
  {
   "cell_type": "code",
   "execution_count": null,
   "metadata": {},
   "outputs": [],
   "source": [
    "players = sofascore.get_players_from_team_ids(team_ids)"
   ]
  },
  {
   "cell_type": "code",
   "execution_count": null,
   "metadata": {},
   "outputs": [],
   "source": [
    "# Perfiles\n",
    "sofascore.get_profile_from_players(players)"
   ]
  },
  {
   "cell_type": "code",
   "execution_count": null,
   "metadata": {},
   "outputs": [],
   "source": [
    "# Mapas de calor\n",
    "sofascore.get_heatmap_from_players(players)"
   ]
  },
  {
   "cell_type": "code",
   "execution_count": null,
   "metadata": {},
   "outputs": [],
   "source": [
    "# Atributos\n",
    "sofascore.get_attributes_from_players(players, delay=5)"
   ]
  },
  {
   "cell_type": "code",
   "execution_count": null,
   "metadata": {},
   "outputs": [],
   "source": [
    "# Estadísticas\n",
    "sofascore.get_statistics_from_players(players, league_id, season_id)"
   ]
  },
  {
   "cell_type": "markdown",
   "metadata": {},
   "source": [
    "## Partidos\n",
    "Se definen los partidos a analizar. Luego se aplican las funciones para obtener los datos buscados, formación, incidencias, resultado y estadísticas de cada partido. También se extrae el mapa de tiros, los datos de match momentum y los hightlights."
   ]
  },
  {
   "cell_type": "code",
   "execution_count": null,
   "metadata": {},
   "outputs": [],
   "source": [
    "round = 38\n",
    "events_df = sofascore.get_total_event_from_season(league_id, season_id, round)\n",
    "events = events_df['event_id'].tolist()"
   ]
  },
  {
   "cell_type": "code",
   "execution_count": null,
   "metadata": {},
   "outputs": [],
   "source": [
    "# Alineaciones\n",
    "sofascore.get_lineups_from_single_event(events)"
   ]
  },
  {
   "cell_type": "code",
   "execution_count": null,
   "metadata": {},
   "outputs": [],
   "source": [
    "# Resultados\n",
    "sofascore.get_results_from_single_event(events)"
   ]
  },
  {
   "cell_type": "code",
   "execution_count": null,
   "metadata": {},
   "outputs": [],
   "source": [
    "# Resumen\n",
    "sofascore.get_highlights_from_events(events)"
   ]
  },
  {
   "cell_type": "code",
   "execution_count": null,
   "metadata": {},
   "outputs": [],
   "source": [
    "# Estadísicas\n",
    "sofascore.get_statistics_from_events(events)"
   ]
  },
  {
   "cell_type": "code",
   "execution_count": null,
   "metadata": {},
   "outputs": [],
   "source": [
    "# Mapa de tiros\n",
    "sofascore.get_shotmap_from_events(events)"
   ]
  },
  {
   "cell_type": "code",
   "execution_count": null,
   "metadata": {},
   "outputs": [],
   "source": [
    "# Match momentum\n",
    "sofascore.get_momentum_from_events(events)"
   ]
  },
  {
   "cell_type": "code",
   "execution_count": null,
   "metadata": {},
   "outputs": [],
   "source": [
    "# Incidentes\n",
    "sofascore.get_incidents_from_events(events)"
   ]
  }
 ],
 "metadata": {
  "kernelspec": {
   "display_name": "Python 3",
   "language": "python",
   "name": "python3"
  },
  "language_info": {
   "codemirror_mode": {
    "name": "ipython",
    "version": 3
   },
   "file_extension": ".py",
   "mimetype": "text/x-python",
   "name": "python",
   "nbconvert_exporter": "python",
   "pygments_lexer": "ipython3",
   "version": "3.11.5"
  }
 },
 "nbformat": 4,
 "nbformat_minor": 2
}
